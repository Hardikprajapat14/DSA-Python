{
  "cells": [
    {
      "cell_type": "code",
      "execution_count": 27,
      "metadata": {
        "id": "DKHpfk1Tp54J"
      },
      "outputs": [],
      "source": [
        "class Animal:\n",
        "  def speak(self):\n",
        "    print(\"animal speaking\")\n",
        "\n",
        "\n",
        "class Dog(Animal):\n",
        "  def speak(self):\n",
        "    print(\"Bark\")\n",
        "\n",
        "class Cat(Animal):\n",
        "  def speak(self):\n",
        "    print(\"meow\")\n",
        "\n",
        "\n"
      ]
    },
    {
      "cell_type": "code",
      "execution_count": 28,
      "metadata": {
        "id": "__kZ5dRZIx_w"
      },
      "outputs": [],
      "source": [
        "animal=Animal()\n",
        "dog= Dog()\n",
        "cat=Cat()"
      ]
    },
    {
      "cell_type": "code",
      "execution_count": 29,
      "metadata": {
        "colab": {
          "base_uri": "https://localhost:8080/"
        },
        "id": "rlc-XYesKAmU",
        "outputId": "737bcbee-2b46-4497-c059-c57121895446"
      },
      "outputs": [
        {
          "name": "stdout",
          "output_type": "stream",
          "text": [
            "animal speaking\n",
            "meow\n",
            "Bark\n"
          ]
        }
      ],
      "source": [
        "for creature in (animal,cat,dog):\n",
        "  creature.speak()"
      ]
    }
  ],
  "metadata": {
    "colab": {
      "provenance": []
    },
    "kernelspec": {
      "display_name": "Python 3",
      "name": "python3"
    },
    "language_info": {
      "name": "python",
      "version": "3.10.4"
    }
  },
  "nbformat": 4,
  "nbformat_minor": 0
}
