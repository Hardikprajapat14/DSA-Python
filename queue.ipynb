{
  "nbformat": 4,
  "nbformat_minor": 0,
  "metadata": {
    "colab": {
      "provenance": []
    },
    "kernelspec": {
      "name": "python3",
      "display_name": "Python 3"
    },
    "language_info": {
      "name": "python"
    }
  },
  "cells": [
    {
      "cell_type": "code",
      "execution_count": 1,
      "metadata": {
        "colab": {
          "base_uri": "https://localhost:8080/"
        },
        "id": "DiERS95jF2C8",
        "outputId": "801163e3-db12-4644-d604-a7e7586ea9e2"
      },
      "outputs": [
        {
          "output_type": "stream",
          "name": "stdout",
          "text": [
            "Queue after enqueuing: [1, 2, 3]\n",
            "Queue after dequeuing: [2, 3]\n"
          ]
        }
      ],
      "source": [
        "queue = []\n",
        "\n",
        "# Enqueue elements\n",
        "queue.append(1)\n",
        "queue.append(2)\n",
        "queue.append(3)\n",
        "print(\"Queue after enqueuing:\", queue)\n",
        "\n",
        "# Dequeue element\n",
        "queue.pop(0)\n",
        "print(\"Queue after dequeuing:\", queue)\n"
      ]
    }
  ]
}