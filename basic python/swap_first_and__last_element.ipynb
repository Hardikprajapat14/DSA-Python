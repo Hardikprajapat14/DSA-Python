{
  "nbformat": 4,
  "nbformat_minor": 0,
  "metadata": {
    "colab": {
      "provenance": []
    },
    "kernelspec": {
      "name": "python3",
      "display_name": "Python 3"
    },
    "language_info": {
      "name": "python"
    }
  },
  "cells": [
    {
      "cell_type": "code",
      "execution_count": 3,
      "metadata": {
        "colab": {
          "base_uri": "https://localhost:8080/"
        },
        "id": "437LUIt9sCQY",
        "outputId": "cbae5f49-bebb-4639-b599-f1197d57c570"
      },
      "outputs": [
        {
          "output_type": "stream",
          "name": "stdout",
          "text": [
            "list after swapping: [6, 3, 4, 5, 2]\n"
          ]
        }
      ],
      "source": [
        "mylist = [2,3,4,5,6]\n",
        "size= len(mylist)\n",
        "\n",
        "temp = mylist[0]\n",
        "mylist[0] = mylist[size-1]\n",
        "mylist[size-1] = temp\n",
        "\n",
        "print (\"list after swapping:\" ,mylist)"
      ]
    },
    {
      "cell_type": "code",
      "source": [],
      "metadata": {
        "id": "LA-KY2znxed_"
      },
      "execution_count": null,
      "outputs": []
    }
  ]
}