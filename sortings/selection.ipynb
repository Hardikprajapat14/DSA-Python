{
  "nbformat": 4,
  "nbformat_minor": 0,
  "metadata": {
    "colab": {
      "provenance": []
    },
    "kernelspec": {
      "name": "python3",
      "display_name": "Python 3"
    },
    "language_info": {
      "name": "python"
    }
  },
  "cells": [
    {
      "cell_type": "code",
      "source": [
        "def sort(nums):\n",
        "  for i in range(5):\n",
        "    minpos= i\n",
        "    for j in range (i, 6):\n",
        "      if nums[j]< nums[minpos]:\n",
        "        minpos=j\n",
        "\n",
        "\n",
        "    temp=nums[i]\n",
        "    nums[i]= nums[minpos]\n",
        "    nums[minpos]= temp\n"
      ],
      "metadata": {
        "id": "LSP015WjegrX"
      },
      "execution_count": 9,
      "outputs": []
    },
    {
      "cell_type": "code",
      "execution_count": 10,
      "metadata": {
        "colab": {
          "base_uri": "https://localhost:8080/"
        },
        "id": "O7FawP2XeWSW",
        "outputId": "5adec856-faab-424d-f253-7939af9531e2"
      },
      "outputs": [
        {
          "output_type": "stream",
          "name": "stdout",
          "text": [
            "[2, 4, 6, 7, 8, 9]\n"
          ]
        }
      ],
      "source": [
        "nums=[4,8,6,2,9,7]\n",
        "sort(nums)\n",
        "\n",
        "print(nums)"
      ]
    },
    {
      "cell_type": "code",
      "source": [],
      "metadata": {
        "id": "hCygjf3weg5u"
      },
      "execution_count": null,
      "outputs": []
    },
    {
      "cell_type": "code",
      "source": [],
      "metadata": {
        "id": "C2TT8_cTeg9M"
      },
      "execution_count": null,
      "outputs": []
    }
  ]
}