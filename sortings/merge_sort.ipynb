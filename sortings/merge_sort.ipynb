{
  "nbformat": 4,
  "nbformat_minor": 0,
  "metadata": {
    "colab": {
      "provenance": []
    },
    "kernelspec": {
      "name": "python3",
      "display_name": "Python 3"
    },
    "language_info": {
      "name": "python"
    }
  },
  "cells": [
    {
      "cell_type": "code",
      "source": [
        "from IPython import get_ipython\n",
        "from IPython.display import display"
      ],
      "metadata": {
        "id": "PtjcZNQd0tvP"
      },
      "execution_count": 4,
      "outputs": []
    },
    {
      "cell_type": "code",
      "execution_count": 12,
      "metadata": {
        "id": "M1GfbcHvzAtw"
      },
      "outputs": [],
      "source": [
        "def merge_sort(arr):\n",
        "  if len(arr) <= 1:\n",
        "    return arr\n",
        "\n",
        "  mid = len(arr)//2\n",
        "  l_half  = arr[:mid]\n",
        "  r_half = arr[mid:]\n",
        "  l_half = merge_sort(l_half)\n",
        "  r_half = merge_sort(r_half)\n",
        "\n",
        "  return merge(l_half, r_half)\n",
        "\n",
        "\n"
      ]
    },
    {
      "cell_type": "code",
      "source": [
        "def merge(left,right):\n",
        "  new = []\n",
        "  i, j=0,0\n",
        "\n",
        "  while i < len(left) and j < len(right):\n",
        "    if left[i] < right[j]:\n",
        "      new.append(left[i])\n",
        "      i += 1\n",
        "    else:\n",
        "      new.append(right[j])\n",
        "      j += 1\n",
        "\n",
        "  new.extend(left[i:])\n",
        "  new.extend(right[j:])\n",
        "  return new"
      ],
      "metadata": {
        "id": "G275oepmzhF2"
      },
      "execution_count": 13,
      "outputs": []
    },
    {
      "cell_type": "code",
      "source": [
        "my_list = [5, 2, 8, 1, 9, 4]\n",
        "sorted_list = merge_sort(my_list)\n",
        "\n",
        "# Print the sorted list\n",
        "print(sorted_list)"
      ],
      "metadata": {
        "colab": {
          "base_uri": "https://localhost:8080/"
        },
        "id": "L1N-4r3u0Ns2",
        "outputId": "1255c0cc-4626-4088-a107-a0e9b30ef2fb"
      },
      "execution_count": 14,
      "outputs": [
        {
          "output_type": "stream",
          "name": "stdout",
          "text": [
            "[1, 2, 4, 5, 8, 9]\n"
          ]
        }
      ]
    },
    {
      "cell_type": "code",
      "source": [
        ""
      ],
      "metadata": {
        "id": "SD7uLm9r0q2T"
      },
      "execution_count": 7,
      "outputs": []
    }
  ]
}