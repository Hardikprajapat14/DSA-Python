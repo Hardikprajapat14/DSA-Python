{
  "nbformat": 4,
  "nbformat_minor": 0,
  "metadata": {
    "colab": {
      "provenance": []
    },
    "kernelspec": {
      "name": "python3",
      "display_name": "Python 3"
    },
    "language_info": {
      "name": "python"
    }
  },
  "cells": [
    {
      "cell_type": "code",
      "execution_count": 9,
      "metadata": {
        "id": "b2-vD9HVH0Lz"
      },
      "outputs": [],
      "source": [
        "def quick_sort(arr, low, high):\n",
        "  if low < high:\n",
        "    pivot = partition(arr, low, high)\n",
        "    quick_sort(arr, low, pivot -1 )\n",
        "    quick_sort(arr,pivot +1, high)\n",
        "\n",
        "def partition(arr, low, high):\n",
        "  p= arr[low]\n",
        "  i = low + 1\n",
        "  j= high\n",
        "  while True :\n",
        "    while i <=j and arr[i] <= p:\n",
        "      i += 1\n",
        "    while i <= j and arr[j] >=p:\n",
        "      j -= 1\n",
        "    if i<= j:\n",
        "      arr[i], arr[j]=arr[j],arr[i]\n",
        "    else:\n",
        "      break\n",
        "  arr[low], arr[j]=arr[j],arr[low]\n",
        "  return j\n",
        "\n",
        "\n",
        ""
      ]
    },
    {
      "cell_type": "code",
      "source": [
        "#another method\n",
        "def quick_sort(arr):\n",
        "    if len(arr) <= 1:\n",
        "        return arr\n",
        "\n",
        "    pivot = arr[-1]  # Choosing the last element as pivot\n",
        "    left = [x for x in arr[:-1] if x <= pivot]  # Elements smaller than pivot\n",
        "    right = [x for x in arr[:-1] if x > pivot]  # Elements greater than pivot\n",
        "\n",
        "    return quick_sort(left) + [pivot] + quick_sort(right)\n",
        "\n",
        "arr = [10, 7, 8, 9, 1, 5]\n",
        "print(\"Sorted:\", quick_sort(arr))\n"
      ],
      "metadata": {
        "colab": {
          "base_uri": "https://localhost:8080/"
        },
        "id": "MMH6HXfuzrbi",
        "outputId": "522fcc6a-7057-406c-b05d-bf137dee0d32"
      },
      "execution_count": 1,
      "outputs": [
        {
          "output_type": "stream",
          "name": "stdout",
          "text": [
            "Sorted: [1, 5, 7, 8, 9, 10]\n"
          ]
        }
      ]
    },
    {
      "cell_type": "code",
      "source": [],
      "metadata": {
        "id": "16AZjT9gzsLJ"
      },
      "execution_count": null,
      "outputs": []
    }
  ]
}