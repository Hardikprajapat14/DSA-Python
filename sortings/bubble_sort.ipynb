{
  "nbformat": 4,
  "nbformat_minor": 0,
  "metadata": {
    "colab": {
      "provenance": []
    },
    "kernelspec": {
      "name": "python3",
      "display_name": "Python 3"
    },
    "language_info": {
      "name": "python"
    }
  },
  "cells": [
    {
      "cell_type": "code",
      "execution_count": 7,
      "metadata": {
        "colab": {
          "base_uri": "https://localhost:8080/"
        },
        "id": "uaTYbIleYWfw",
        "outputId": "28a59753-c9e5-45b3-b951-852e7fa579a8"
      },
      "outputs": [
        {
          "output_type": "stream",
          "name": "stdout",
          "text": [
            "[1, 4, 5, 6, 7, 8]\n"
          ]
        }
      ],
      "source": [
        "def sort(nums):\n",
        "  for i in range(len(nums)-1,0,-1):\n",
        "      for j in range(i):\n",
        "          if nums[j] > nums[j+1]:\n",
        "             temps = nums[j]\n",
        "             nums [j] = nums[j+1]\n",
        "             nums [j+1] = temps\n",
        "\n",
        "\n",
        "\n",
        "nums= [5,6,4,7,8,1]\n",
        "sort(nums)\n",
        "\n",
        "print (nums)"
      ]
    },
    {
      "cell_type": "code",
      "source": [],
      "metadata": {
        "id": "PuBxzBI0eqwm"
      },
      "execution_count": null,
      "outputs": []
    }
  ]
}