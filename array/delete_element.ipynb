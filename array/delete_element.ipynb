{
  "nbformat": 4,
  "nbformat_minor": 0,
  "metadata": {
    "colab": {
      "provenance": []
    },
    "kernelspec": {
      "name": "python3",
      "display_name": "Python 3"
    },
    "language_info": {
      "name": "python"
    }
  },
  "cells": [
    {
      "cell_type": "code",
      "execution_count": 2,
      "metadata": {
        "colab": {
          "base_uri": "https://localhost:8080/"
        },
        "id": "0JM19fmSxd9v",
        "outputId": "49058184-847e-4f48-a7c0-84a87a655f43"
      },
      "outputs": [
        {
          "output_type": "stream",
          "name": "stdout",
          "text": [
            "[1, 6]\n"
          ]
        }
      ],
      "source": [
        "#remove\n",
        "arr= [1,2,6]\n",
        "arr.remove(2)\n",
        "print (arr)"
      ]
    },
    {
      "cell_type": "code",
      "source": [
        "#delete\n",
        "arr= [1,2,6]\n",
        "del arr[1]\n",
        "print (arr)"
      ],
      "metadata": {
        "colab": {
          "base_uri": "https://localhost:8080/"
        },
        "id": "ZvyFVNAPykHO",
        "outputId": "9f7831d3-0c46-4675-8812-2e642ffd0fc7"
      },
      "execution_count": 3,
      "outputs": [
        {
          "output_type": "stream",
          "name": "stdout",
          "text": [
            "[1, 6]\n"
          ]
        }
      ]
    }
  ]
}