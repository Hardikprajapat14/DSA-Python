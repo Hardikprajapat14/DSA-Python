{
  "nbformat": 4,
  "nbformat_minor": 0,
  "metadata": {
    "colab": {
      "provenance": []
    },
    "kernelspec": {
      "name": "python3",
      "display_name": "Python 3"
    },
    "language_info": {
      "name": "python"
    }
  },
  "cells": [
    {
      "cell_type": "code",
      "execution_count": 9,
      "metadata": {
        "id": "aZeQa7cBtZOi"
      },
      "outputs": [],
      "source": [
        "#append\n",
        "arr= [1,2,6]\n",
        "arr.append(1)\n",
        "arr.append(10)"
      ]
    },
    {
      "cell_type": "code",
      "source": [
        "#extend\n",
        "arr= [4,5,6]\n",
        "arr.extend([10,4])"
      ],
      "metadata": {
        "id": "9utquIwzwneS"
      },
      "execution_count": 10,
      "outputs": []
    },
    {
      "cell_type": "code",
      "source": [],
      "metadata": {
        "id": "dZ9IBRljxFYD"
      },
      "execution_count": null,
      "outputs": []
    }
  ]
}