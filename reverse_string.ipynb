{
  "nbformat": 4,
  "nbformat_minor": 0,
  "metadata": {
    "colab": {
      "provenance": []
    },
    "kernelspec": {
      "name": "python3",
      "display_name": "Python 3"
    },
    "language_info": {
      "name": "python"
    }
  },
  "cells": [
    {
      "cell_type": "code",
      "execution_count": 1,
      "metadata": {
        "id": "5KkR5IxDbMS1"
      },
      "outputs": [],
      "source": [
        "string = \"Hello\"\n",
        "reversed_string = string[::-1]\n"
      ]
    },
    {
      "cell_type": "code",
      "source": [
        "print (reversed_string)"
      ],
      "metadata": {
        "colab": {
          "base_uri": "https://localhost:8080/"
        },
        "id": "mWEDpZlubvTz",
        "outputId": "9d2b97b2-559e-417e-b60f-649f313f24d2"
      },
      "execution_count": 2,
      "outputs": [
        {
          "output_type": "stream",
          "name": "stdout",
          "text": [
            "olleH\n"
          ]
        }
      ]
    },
    {
      "cell_type": "code",
      "source": [
        "hardik= \"prajapat\"\n",
        "reversed_string = hardik[::-1]\n",
        "print (\"reversed_string is: \", reversed_string )"
      ],
      "metadata": {
        "colab": {
          "base_uri": "https://localhost:8080/"
        },
        "id": "RYW-2NZHb0It",
        "outputId": "938cff46-866a-471e-e699-0fb553b62bc5"
      },
      "execution_count": 11,
      "outputs": [
        {
          "output_type": "stream",
          "name": "stdout",
          "text": [
            "reversed_string is:  tapajarp\n"
          ]
        }
      ]
    },
    {
      "cell_type": "code",
      "source": [],
      "metadata": {
        "id": "7uHX-R4dcA5e"
      },
      "execution_count": null,
      "outputs": []
    }
  ]
}