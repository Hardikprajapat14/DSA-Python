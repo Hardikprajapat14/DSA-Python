{
  "nbformat": 4,
  "nbformat_minor": 0,
  "metadata": {
    "colab": {
      "provenance": []
    },
    "kernelspec": {
      "name": "python3",
      "display_name": "Python 3"
    },
    "language_info": {
      "name": "python"
    }
  },
  "cells": [
    {
      "cell_type": "code",
      "execution_count": null,
      "metadata": {
        "id": "G5xmypwUGIKx"
      },
      "outputs": [],
      "source": [
        "stack = []\n",
        "\n",
        "# Push elements\n",
        "stack.append(1)\n",
        "stack.append(2)\n",
        "stack.append(3)\n",
        "print(\"Stack after pushing:\", stack)\n",
        "\n",
        "# Pop element\n",
        "stack.pop()\n",
        "print(\"Stack after popping:\", stack)\n"
      ]
    }
  ]
}